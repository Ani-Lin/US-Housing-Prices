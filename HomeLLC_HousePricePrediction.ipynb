{
 "cells": [
  {
   "cell_type": "markdown",
   "id": "9918a68d",
   "metadata": {},
   "source": [
    "\n",
    "# Problem Statement\n",
    "\n",
    "**Build a model using publicly available data for key *national* demand & supply factors that could influence US home prices. Use that to explain how these factors impacted home prices over the last ~20 years. You can use the S&P Case-Schiller\n",
    "Home Price Index as a proxy for home prices:fred.stlouisfed.org/series/CSUSHPISA.\n"
   ]
  },
  {
   "cell_type": "markdown",
   "id": "ab8104f6",
   "metadata": {},
   "source": [
    "**Initially we import all the necessary library files "
   ]
  },
  {
   "cell_type": "code",
   "execution_count": 1,
   "id": "36e05a10",
   "metadata": {},
   "outputs": [],
   "source": [
    "import numpy as np\n",
    "import pandas as pd\n",
    "import matplotlib.pyplot as plt\n",
    "import seaborn as sns"
   ]
  },
  {
   "cell_type": "markdown",
   "id": "462b9239",
   "metadata": {},
   "source": [
    "**All the data with various factors,ie. National, Supply and Demand factors have been extracted from the publically available sources.\n",
    "\n",
    "**The data is then taken and checked for missing data.Only the data of the past 20 years has been extracted."
   ]
  },
  {
   "cell_type": "code",
   "execution_count": null,
   "id": "f236dc64",
   "metadata": {},
   "outputs": [],
   "source": [
    "housing_index_df = pd.read_csv('./housing_price_index.csv')"
   ]
  },
  {
   "cell_type": "code",
   "execution_count": 3,
   "id": "a06a9bf9",
   "metadata": {},
   "outputs": [
    {
     "data": {
      "text/html": [
       "<div>\n",
       "<style scoped>\n",
       "    .dataframe tbody tr th:only-of-type {\n",
       "        vertical-align: middle;\n",
       "    }\n",
       "\n",
       "    .dataframe tbody tr th {\n",
       "        vertical-align: top;\n",
       "    }\n",
       "\n",
       "    .dataframe thead th {\n",
       "        text-align: right;\n",
       "    }\n",
       "</style>\n",
       "<table border=\"1\" class=\"dataframe\">\n",
       "  <thead>\n",
       "    <tr style=\"text-align: right;\">\n",
       "      <th></th>\n",
       "      <th>DATE</th>\n",
       "      <th>CSUSHPINSA</th>\n",
       "    </tr>\n",
       "  </thead>\n",
       "  <tbody>\n",
       "    <tr>\n",
       "      <th>0</th>\n",
       "      <td>2000-01-01</td>\n",
       "      <td>100.000</td>\n",
       "    </tr>\n",
       "    <tr>\n",
       "      <th>1</th>\n",
       "      <td>2000-02-01</td>\n",
       "      <td>100.571</td>\n",
       "    </tr>\n",
       "    <tr>\n",
       "      <th>2</th>\n",
       "      <td>2000-03-01</td>\n",
       "      <td>101.466</td>\n",
       "    </tr>\n",
       "    <tr>\n",
       "      <th>3</th>\n",
       "      <td>2000-04-01</td>\n",
       "      <td>102.540</td>\n",
       "    </tr>\n",
       "    <tr>\n",
       "      <th>4</th>\n",
       "      <td>2000-05-01</td>\n",
       "      <td>103.701</td>\n",
       "    </tr>\n",
       "  </tbody>\n",
       "</table>\n",
       "</div>"
      ],
      "text/plain": [
       "         DATE  CSUSHPINSA\n",
       "0  2000-01-01     100.000\n",
       "1  2000-02-01     100.571\n",
       "2  2000-03-01     101.466\n",
       "3  2000-04-01     102.540\n",
       "4  2000-05-01     103.701"
      ]
     },
     "execution_count": 3,
     "metadata": {},
     "output_type": "execute_result"
    }
   ],
   "source": [
    "housing_index_df.head()"
   ]
  },
  {
   "cell_type": "markdown",
   "id": "47f6d0bb",
   "metadata": {},
   "source": [
    "**Renaming the columns so that they are more readable and understandable."
   ]
  },
  {
   "cell_type": "code",
   "execution_count": 4,
   "id": "9dcf2ba0",
   "metadata": {},
   "outputs": [],
   "source": [
    "housing_index_df.rename(columns={'CSUSHPINSA' : 'Price'},inplace=True)"
   ]
  },
  {
   "cell_type": "code",
   "execution_count": 5,
   "id": "b6c8ad8d",
   "metadata": {},
   "outputs": [
    {
     "data": {
      "text/plain": [
       "(270, 2)"
      ]
     },
     "execution_count": 5,
     "metadata": {},
     "output_type": "execute_result"
    }
   ],
   "source": [
    "housing_index_df.shape"
   ]
  },
  {
   "cell_type": "code",
   "execution_count": 6,
   "id": "dde19d34",
   "metadata": {},
   "outputs": [
    {
     "data": {
      "text/plain": [
       "DATE     0\n",
       "Price    0\n",
       "dtype: int64"
      ]
     },
     "execution_count": 6,
     "metadata": {},
     "output_type": "execute_result"
    }
   ],
   "source": [
    "housing_index_df.isnull().sum()"
   ]
  },
  {
   "cell_type": "code",
   "execution_count": 7,
   "id": "b0041998",
   "metadata": {},
   "outputs": [
    {
     "data": {
      "text/plain": [
       "<AxesSubplot:xlabel='Price'>"
      ]
     },
     "execution_count": 7,
     "metadata": {},
     "output_type": "execute_result"
    },
    {
     "data": {
      "image/png": "[encoded data removed]",
      "text/plain": [
       "<Figure size 432x288 with 1 Axes>"
      ]
     },
     "metadata": {
      "needs_background": "light"
     },
     "output_type": "display_data"
    }
   ],
   "source": [
    "sns.boxplot(x=housing_index_df['Price'])"
   ]
  },
  {
   "cell_type": "code",
   "execution_count": 9,
   "id": "3a33d37e",
   "metadata": {},
   "outputs": [
    {
     "data": {
      "text/html": [
       "<div>\n",
       "<style scoped>\n",
       "    .dataframe tbody tr th:only-of-type {\n",
       "        vertical-align: middle;\n",
       "    }\n",
       "\n",
       "    .dataframe tbody tr th {\n",
       "        vertical-align: top;\n",
       "    }\n",
       "\n",
       "    .dataframe thead th {\n",
       "        text-align: right;\n",
       "    }\n",
       "</style>\n",
       "<table border=\"1\" class=\"dataframe\">\n",
       "  <thead>\n",
       "    <tr style=\"text-align: right;\">\n",
       "      <th></th>\n",
       "      <th>Price</th>\n",
       "    </tr>\n",
       "    <tr>\n",
       "      <th>DATE</th>\n",
       "      <th></th>\n",
       "    </tr>\n",
       "  </thead>\n",
       "  <tbody>\n",
       "    <tr>\n",
       "      <th>2000</th>\n",
       "      <td>104.776667</td>\n",
       "    </tr>\n",
       "    <tr>\n",
       "      <th>2001</th>\n",
       "      <td>113.184750</td>\n",
       "    </tr>\n",
       "    <tr>\n",
       "      <th>2002</th>\n",
       "      <td>122.287500</td>\n",
       "    </tr>\n",
       "    <tr>\n",
       "      <th>2003</th>\n",
       "      <td>133.741167</td>\n",
       "    </tr>\n",
       "    <tr>\n",
       "      <th>2004</th>\n",
       "      <td>150.464083</td>\n",
       "    </tr>\n",
       "  </tbody>\n",
       "</table>\n",
       "</div>"
      ],
      "text/plain": [
       "           Price\n",
       "DATE            \n",
       "2000  104.776667\n",
       "2001  113.184750\n",
       "2002  122.287500\n",
       "2003  133.741167\n",
       "2004  150.464083"
      ]
     },
     "execution_count": 9,
     "metadata": {},
     "output_type": "execute_result"
    }
   ],
   "source": [
    "## housing_index_df = pd.\n",
    "housing_index_df=housing_index_df.groupby(pd.DatetimeIndex(housing_index_df['DATE']).year).mean()\n",
    "housing_index_df.head()"
   ]
  },
  {
   "cell_type": "code",
   "execution_count": 10,
   "id": "0828fb16",
   "metadata": {},
   "outputs": [
    {
     "data": {
      "text/html": [
       "<div>\n",
       "<style scoped>\n",
       "    .dataframe tbody tr th:only-of-type {\n",
       "        vertical-align: middle;\n",
       "    }\n",
       "\n",
       "    .dataframe tbody tr th {\n",
       "        vertical-align: top;\n",
       "    }\n",
       "\n",
       "    .dataframe thead th {\n",
       "        text-align: right;\n",
       "    }\n",
       "</style>\n",
       "<table border=\"1\" class=\"dataframe\">\n",
       "  <thead>\n",
       "    <tr style=\"text-align: right;\">\n",
       "      <th></th>\n",
       "      <th>Price</th>\n",
       "    </tr>\n",
       "    <tr>\n",
       "      <th>DATE</th>\n",
       "      <th></th>\n",
       "    </tr>\n",
       "  </thead>\n",
       "  <tbody>\n",
       "    <tr>\n",
       "      <th>2018</th>\n",
       "      <td>202.482667</td>\n",
       "    </tr>\n",
       "    <tr>\n",
       "      <th>2019</th>\n",
       "      <td>209.479917</td>\n",
       "    </tr>\n",
       "    <tr>\n",
       "      <th>2020</th>\n",
       "      <td>222.147750</td>\n",
       "    </tr>\n",
       "    <tr>\n",
       "      <th>2021</th>\n",
       "      <td>260.101500</td>\n",
       "    </tr>\n",
       "    <tr>\n",
       "      <th>2022</th>\n",
       "      <td>296.677000</td>\n",
       "    </tr>\n",
       "  </tbody>\n",
       "</table>\n",
       "</div>"
      ],
      "text/plain": [
       "           Price\n",
       "DATE            \n",
       "2018  202.482667\n",
       "2019  209.479917\n",
       "2020  222.147750\n",
       "2021  260.101500\n",
       "2022  296.677000"
      ]
     },
     "execution_count": 10,
     "metadata": {},
     "output_type": "execute_result"
    }
   ],
   "source": [
    "housing_index_df.tail()"
   ]
  },
  {
   "cell_type": "markdown",
   "id": "15fd0e20",
   "metadata": {},
   "source": [
    "**GDP is one of the national factors that affect the housing prices in US."
   ]
  },
  {
   "cell_type": "code",
   "execution_count": 11,
   "id": "c48e895a",
   "metadata": {},
   "outputs": [],
   "source": [
    "## National factors\n",
    "gdp_national_df = pd.read_csv('./gdp.csv')"
   ]
  },
  {
   "cell_type": "code",
   "execution_count": 12,
   "id": "f2d1a90f",
   "metadata": {},
   "outputs": [
    {
     "data": {
      "text/html": [
       "<div>\n",
       "<style scoped>\n",
       "    .dataframe tbody tr th:only-of-type {\n",
       "        vertical-align: middle;\n",
       "    }\n",
       "\n",
       "    .dataframe tbody tr th {\n",
       "        vertical-align: top;\n",
       "    }\n",
       "\n",
       "    .dataframe thead th {\n",
       "        text-align: right;\n",
       "    }\n",
       "</style>\n",
       "<table border=\"1\" class=\"dataframe\">\n",
       "  <thead>\n",
       "    <tr style=\"text-align: right;\">\n",
       "      <th></th>\n",
       "      <th>DATE</th>\n",
       "      <th>USALORSGPNOSTSAM</th>\n",
       "    </tr>\n",
       "  </thead>\n",
       "  <tbody>\n",
       "    <tr>\n",
       "      <th>0</th>\n",
       "      <td>2000-01-01</td>\n",
       "      <td>101.491684</td>\n",
       "    </tr>\n",
       "    <tr>\n",
       "      <th>1</th>\n",
       "      <td>2000-02-01</td>\n",
       "      <td>101.552742</td>\n",
       "    </tr>\n",
       "    <tr>\n",
       "      <th>2</th>\n",
       "      <td>2000-03-01</td>\n",
       "      <td>101.627216</td>\n",
       "    </tr>\n",
       "    <tr>\n",
       "      <th>3</th>\n",
       "      <td>2000-04-01</td>\n",
       "      <td>101.698483</td>\n",
       "    </tr>\n",
       "    <tr>\n",
       "      <th>4</th>\n",
       "      <td>2000-05-01</td>\n",
       "      <td>101.740524</td>\n",
       "    </tr>\n",
       "  </tbody>\n",
       "</table>\n",
       "</div>"
      ],
      "text/plain": [
       "         DATE  USALORSGPNOSTSAM\n",
       "0  2000-01-01        101.491684\n",
       "1  2000-02-01        101.552742\n",
       "2  2000-03-01        101.627216\n",
       "3  2000-04-01        101.698483\n",
       "4  2000-05-01        101.740524"
      ]
     },
     "execution_count": 12,
     "metadata": {},
     "output_type": "execute_result"
    }
   ],
   "source": [
    "gdp_national_df.head()"
   ]
  },
  {
   "cell_type": "code",
   "execution_count": 13,
   "id": "ccb34cb0",
   "metadata": {},
   "outputs": [],
   "source": [
    "gdp_national_df.rename(columns={'USALORSGPNOSTSAM' : 'GDP Index'},inplace=True)"
   ]
  },
  {
   "cell_type": "code",
   "execution_count": 14,
   "id": "24c641ff",
   "metadata": {},
   "outputs": [
    {
     "data": {
      "text/plain": [
       "DATE         0\n",
       "GDP Index    0\n",
       "dtype: int64"
      ]
     },
     "execution_count": 14,
     "metadata": {},
     "output_type": "execute_result"
    }
   ],
   "source": [
    "gdp_national_df.head()\n",
    "gdp_national_df.isnull().sum()"
   ]
  },
  {
   "cell_type": "code",
   "execution_count": 15,
   "id": "89f15c58",
   "metadata": {},
   "outputs": [
    {
     "data": {
      "text/plain": [
       "<AxesSubplot:xlabel='GDP Index'>"
      ]
     },
     "execution_count": 15,
     "metadata": {},
     "output_type": "execute_result"
    },
    {
     "data": {
      "image/png": "[encoded data removed]",
      "text/plain": [
       "<Figure size 432x288 with 1 Axes>"
      ]
     },
     "metadata": {
      "needs_background": "light"
     },
     "output_type": "display_data"
    }
   ],
   "source": [
    "sns.boxplot(x=gdp_national_df['GDP Index'])"
   ]
  },
  {
   "cell_type": "code",
   "execution_count": 17,
   "id": "db1c16eb",
   "metadata": {},
   "outputs": [
    {
     "data": {
      "text/html": [
       "<div>\n",
       "<style scoped>\n",
       "    .dataframe tbody tr th:only-of-type {\n",
       "        vertical-align: middle;\n",
       "    }\n",
       "\n",
       "    .dataframe tbody tr th {\n",
       "        vertical-align: top;\n",
       "    }\n",
       "\n",
       "    .dataframe thead th {\n",
       "        text-align: right;\n",
       "    }\n",
       "</style>\n",
       "<table border=\"1\" class=\"dataframe\">\n",
       "  <thead>\n",
       "    <tr style=\"text-align: right;\">\n",
       "      <th></th>\n",
       "      <th>GDP Index</th>\n",
       "    </tr>\n",
       "    <tr>\n",
       "      <th>DATE</th>\n",
       "      <th></th>\n",
       "    </tr>\n",
       "  </thead>\n",
       "  <tbody>\n",
       "    <tr>\n",
       "      <th>2000</th>\n",
       "      <td>101.509834</td>\n",
       "    </tr>\n",
       "    <tr>\n",
       "      <th>2001</th>\n",
       "      <td>99.881019</td>\n",
       "    </tr>\n",
       "    <tr>\n",
       "      <th>2002</th>\n",
       "      <td>98.888812</td>\n",
       "    </tr>\n",
       "    <tr>\n",
       "      <th>2003</th>\n",
       "      <td>98.918573</td>\n",
       "    </tr>\n",
       "    <tr>\n",
       "      <th>2004</th>\n",
       "      <td>99.844796</td>\n",
       "    </tr>\n",
       "  </tbody>\n",
       "</table>\n",
       "</div>"
      ],
      "text/plain": [
       "       GDP Index\n",
       "DATE            \n",
       "2000  101.509834\n",
       "2001   99.881019\n",
       "2002   98.888812\n",
       "2003   98.918573\n",
       "2004   99.844796"
      ]
     },
     "execution_count": 17,
     "metadata": {},
     "output_type": "execute_result"
    }
   ],
   "source": [
    "gdp_national_df=gdp_national_df.groupby(pd.DatetimeIndex(gdp_national_df['DATE']).year).mean()\n",
    "gdp_national_df.head()"
   ]
  },
  {
   "cell_type": "markdown",
   "id": "2af75d01",
   "metadata": {},
   "source": [
    "**Unemployement rate has been considered as another national factor and is also considered for analysis."
   ]
  },
  {
   "cell_type": "code",
   "execution_count": 18,
   "id": "725ef2ad",
   "metadata": {},
   "outputs": [
    {
     "data": {
      "text/html": [
       "<div>\n",
       "<style scoped>\n",
       "    .dataframe tbody tr th:only-of-type {\n",
       "        vertical-align: middle;\n",
       "    }\n",
       "\n",
       "    .dataframe tbody tr th {\n",
       "        vertical-align: top;\n",
       "    }\n",
       "\n",
       "    .dataframe thead th {\n",
       "        text-align: right;\n",
       "    }\n",
       "</style>\n",
       "<table border=\"1\" class=\"dataframe\">\n",
       "  <thead>\n",
       "    <tr style=\"text-align: right;\">\n",
       "      <th></th>\n",
       "      <th>DATE</th>\n",
       "      <th>UNRATE</th>\n",
       "    </tr>\n",
       "  </thead>\n",
       "  <tbody>\n",
       "    <tr>\n",
       "      <th>0</th>\n",
       "      <td>2000-01-01</td>\n",
       "      <td>4.0</td>\n",
       "    </tr>\n",
       "    <tr>\n",
       "      <th>1</th>\n",
       "      <td>2000-02-01</td>\n",
       "      <td>4.1</td>\n",
       "    </tr>\n",
       "    <tr>\n",
       "      <th>2</th>\n",
       "      <td>2000-03-01</td>\n",
       "      <td>4.0</td>\n",
       "    </tr>\n",
       "    <tr>\n",
       "      <th>3</th>\n",
       "      <td>2000-04-01</td>\n",
       "      <td>3.8</td>\n",
       "    </tr>\n",
       "    <tr>\n",
       "      <th>4</th>\n",
       "      <td>2000-05-01</td>\n",
       "      <td>4.0</td>\n",
       "    </tr>\n",
       "  </tbody>\n",
       "</table>\n",
       "</div>"
      ],
      "text/plain": [
       "         DATE  UNRATE\n",
       "0  2000-01-01     4.0\n",
       "1  2000-02-01     4.1\n",
       "2  2000-03-01     4.0\n",
       "3  2000-04-01     3.8\n",
       "4  2000-05-01     4.0"
      ]
     },
     "execution_count": 18,
     "metadata": {},
     "output_type": "execute_result"
    }
   ],
   "source": [
    "## unemployement rate of US\n",
    "\n",
    "unemployement_national_df = pd.read_csv('./unemployement.csv')\n",
    "\n",
    "unemployement_national_df.head()"
   ]
  },
  {
   "cell_type": "code",
   "execution_count": 19,
   "id": "967dee0e",
   "metadata": {},
   "outputs": [
    {
     "data": {
      "text/html": [
       "<div>\n",
       "<style scoped>\n",
       "    .dataframe tbody tr th:only-of-type {\n",
       "        vertical-align: middle;\n",
       "    }\n",
       "\n",
       "    .dataframe tbody tr th {\n",
       "        vertical-align: top;\n",
       "    }\n",
       "\n",
       "    .dataframe thead th {\n",
       "        text-align: right;\n",
       "    }\n",
       "</style>\n",
       "<table border=\"1\" class=\"dataframe\">\n",
       "  <thead>\n",
       "    <tr style=\"text-align: right;\">\n",
       "      <th></th>\n",
       "      <th>UNRATE</th>\n",
       "    </tr>\n",
       "    <tr>\n",
       "      <th>DATE</th>\n",
       "      <th></th>\n",
       "    </tr>\n",
       "  </thead>\n",
       "  <tbody>\n",
       "    <tr>\n",
       "      <th>2000</th>\n",
       "      <td>3.966667</td>\n",
       "    </tr>\n",
       "    <tr>\n",
       "      <th>2001</th>\n",
       "      <td>4.741667</td>\n",
       "    </tr>\n",
       "    <tr>\n",
       "      <th>2002</th>\n",
       "      <td>5.783333</td>\n",
       "    </tr>\n",
       "    <tr>\n",
       "      <th>2003</th>\n",
       "      <td>5.991667</td>\n",
       "    </tr>\n",
       "    <tr>\n",
       "      <th>2004</th>\n",
       "      <td>5.541667</td>\n",
       "    </tr>\n",
       "  </tbody>\n",
       "</table>\n",
       "</div>"
      ],
      "text/plain": [
       "        UNRATE\n",
       "DATE          \n",
       "2000  3.966667\n",
       "2001  4.741667\n",
       "2002  5.783333\n",
       "2003  5.991667\n",
       "2004  5.541667"
      ]
     },
     "execution_count": 19,
     "metadata": {},
     "output_type": "execute_result"
    }
   ],
   "source": [
    "unemployement_national_df.isnull().sum()\n",
    "unemployement_national_df=unemployement_national_df.groupby(pd.DatetimeIndex(unemployement_national_df['DATE']).year).mean()\n",
    "unemployement_national_df.head()"
   ]
  },
  {
   "cell_type": "markdown",
   "id": "7c2abcaa",
   "metadata": {},
   "source": [
    "**Next we analyse the supply factors. Monthly house supply in the country is a supply factor"
   ]
  },
  {
   "cell_type": "code",
   "execution_count": 20,
   "id": "6ae02507",
   "metadata": {},
   "outputs": [],
   "source": [
    "## supply factors\n",
    "\n",
    "monthly_house_supply_national_df=pd.read_csv('./monthly_house_supply.csv')\n"
   ]
  },
  {
   "cell_type": "code",
   "execution_count": 21,
   "id": "2b9d5963",
   "metadata": {},
   "outputs": [
    {
     "data": {
      "text/html": [
       "<div>\n",
       "<style scoped>\n",
       "    .dataframe tbody tr th:only-of-type {\n",
       "        vertical-align: middle;\n",
       "    }\n",
       "\n",
       "    .dataframe tbody tr th {\n",
       "        vertical-align: top;\n",
       "    }\n",
       "\n",
       "    .dataframe thead th {\n",
       "        text-align: right;\n",
       "    }\n",
       "</style>\n",
       "<table border=\"1\" class=\"dataframe\">\n",
       "  <thead>\n",
       "    <tr style=\"text-align: right;\">\n",
       "      <th></th>\n",
       "      <th>DATE</th>\n",
       "      <th>MSACSR</th>\n",
       "    </tr>\n",
       "  </thead>\n",
       "  <tbody>\n",
       "    <tr>\n",
       "      <th>0</th>\n",
       "      <td>2000-01-01</td>\n",
       "      <td>4.3</td>\n",
       "    </tr>\n",
       "    <tr>\n",
       "      <th>1</th>\n",
       "      <td>2000-02-01</td>\n",
       "      <td>4.3</td>\n",
       "    </tr>\n",
       "    <tr>\n",
       "      <th>2</th>\n",
       "      <td>2000-03-01</td>\n",
       "      <td>4.3</td>\n",
       "    </tr>\n",
       "    <tr>\n",
       "      <th>3</th>\n",
       "      <td>2000-04-01</td>\n",
       "      <td>4.4</td>\n",
       "    </tr>\n",
       "    <tr>\n",
       "      <th>4</th>\n",
       "      <td>2000-05-01</td>\n",
       "      <td>4.4</td>\n",
       "    </tr>\n",
       "  </tbody>\n",
       "</table>\n",
       "</div>"
      ],
      "text/plain": [
       "         DATE  MSACSR\n",
       "0  2000-01-01     4.3\n",
       "1  2000-02-01     4.3\n",
       "2  2000-03-01     4.3\n",
       "3  2000-04-01     4.4\n",
       "4  2000-05-01     4.4"
      ]
     },
     "execution_count": 21,
     "metadata": {},
     "output_type": "execute_result"
    }
   ],
   "source": [
    "monthly_house_supply_national_df.head()"
   ]
  },
  {
   "cell_type": "code",
   "execution_count": 22,
   "id": "05631648",
   "metadata": {},
   "outputs": [
    {
     "data": {
      "text/plain": [
       "DATE      0\n",
       "MSACSR    0\n",
       "dtype: int64"
      ]
     },
     "execution_count": 22,
     "metadata": {},
     "output_type": "execute_result"
    }
   ],
   "source": [
    "monthly_house_supply_national_df.isnull().sum()"
   ]
  },
  {
   "cell_type": "code",
   "execution_count": 23,
   "id": "46b9ec0f",
   "metadata": {},
   "outputs": [],
   "source": [
    "monthly_house_supply_national_df.rename(columns={'MSACSR' : 'Monthly Supply Index'},inplace=True)"
   ]
  },
  {
   "cell_type": "code",
   "execution_count": 24,
   "id": "17a83437",
   "metadata": {},
   "outputs": [
    {
     "data": {
      "text/html": [
       "<div>\n",
       "<style scoped>\n",
       "    .dataframe tbody tr th:only-of-type {\n",
       "        vertical-align: middle;\n",
       "    }\n",
       "\n",
       "    .dataframe tbody tr th {\n",
       "        vertical-align: top;\n",
       "    }\n",
       "\n",
       "    .dataframe thead th {\n",
       "        text-align: right;\n",
       "    }\n",
       "</style>\n",
       "<table border=\"1\" class=\"dataframe\">\n",
       "  <thead>\n",
       "    <tr style=\"text-align: right;\">\n",
       "      <th></th>\n",
       "      <th>Monthly Supply Index</th>\n",
       "    </tr>\n",
       "    <tr>\n",
       "      <th>DATE</th>\n",
       "      <th></th>\n",
       "    </tr>\n",
       "  </thead>\n",
       "  <tbody>\n",
       "    <tr>\n",
       "      <th>2000</th>\n",
       "      <td>4.233333</td>\n",
       "    </tr>\n",
       "    <tr>\n",
       "      <th>2001</th>\n",
       "      <td>4.050000</td>\n",
       "    </tr>\n",
       "    <tr>\n",
       "      <th>2002</th>\n",
       "      <td>4.075000</td>\n",
       "    </tr>\n",
       "    <tr>\n",
       "      <th>2003</th>\n",
       "      <td>3.908333</td>\n",
       "    </tr>\n",
       "    <tr>\n",
       "      <th>2004</th>\n",
       "      <td>4.000000</td>\n",
       "    </tr>\n",
       "  </tbody>\n",
       "</table>\n",
       "</div>"
      ],
      "text/plain": [
       "      Monthly Supply Index\n",
       "DATE                      \n",
       "2000              4.233333\n",
       "2001              4.050000\n",
       "2002              4.075000\n",
       "2003              3.908333\n",
       "2004              4.000000"
      ]
     },
     "execution_count": 24,
     "metadata": {},
     "output_type": "execute_result"
    }
   ],
   "source": [
    "monthly_house_supply_national_df=monthly_house_supply_national_df.groupby(pd.DatetimeIndex(monthly_house_supply_national_df['DATE']).year).mean()\n",
    "monthly_house_supply_national_df.head()"
   ]
  },
  {
   "cell_type": "markdown",
   "id": "114aa516",
   "metadata": {},
   "source": [
    "**Demand factors are next taken into consideration. The first demand factor is the mortgage rate"
   ]
  },
  {
   "cell_type": "code",
   "execution_count": 25,
   "id": "0ba0bad9",
   "metadata": {},
   "outputs": [],
   "source": [
    "## Demand factors\n",
    "\n",
    "mortgage_rate_demand_df = pd.read_csv('./mortgage_rate.csv')\n"
   ]
  },
  {
   "cell_type": "code",
   "execution_count": 26,
   "id": "09d02e0c",
   "metadata": {},
   "outputs": [
    {
     "data": {
      "text/html": [
       "<div>\n",
       "<style scoped>\n",
       "    .dataframe tbody tr th:only-of-type {\n",
       "        vertical-align: middle;\n",
       "    }\n",
       "\n",
       "    .dataframe tbody tr th {\n",
       "        vertical-align: top;\n",
       "    }\n",
       "\n",
       "    .dataframe thead th {\n",
       "        text-align: right;\n",
       "    }\n",
       "</style>\n",
       "<table border=\"1\" class=\"dataframe\">\n",
       "  <thead>\n",
       "    <tr style=\"text-align: right;\">\n",
       "      <th></th>\n",
       "      <th>DATE</th>\n",
       "      <th>MORTGAGE30US</th>\n",
       "    </tr>\n",
       "  </thead>\n",
       "  <tbody>\n",
       "    <tr>\n",
       "      <th>0</th>\n",
       "      <td>2000-01-01</td>\n",
       "      <td>8.2100</td>\n",
       "    </tr>\n",
       "    <tr>\n",
       "      <th>1</th>\n",
       "      <td>2000-02-01</td>\n",
       "      <td>8.3250</td>\n",
       "    </tr>\n",
       "    <tr>\n",
       "      <th>2</th>\n",
       "      <td>2000-03-01</td>\n",
       "      <td>8.2400</td>\n",
       "    </tr>\n",
       "    <tr>\n",
       "      <th>3</th>\n",
       "      <td>2000-04-01</td>\n",
       "      <td>8.1525</td>\n",
       "    </tr>\n",
       "    <tr>\n",
       "      <th>4</th>\n",
       "      <td>2000-05-01</td>\n",
       "      <td>8.5150</td>\n",
       "    </tr>\n",
       "  </tbody>\n",
       "</table>\n",
       "</div>"
      ],
      "text/plain": [
       "         DATE  MORTGAGE30US\n",
       "0  2000-01-01        8.2100\n",
       "1  2000-02-01        8.3250\n",
       "2  2000-03-01        8.2400\n",
       "3  2000-04-01        8.1525\n",
       "4  2000-05-01        8.5150"
      ]
     },
     "execution_count": 26,
     "metadata": {},
     "output_type": "execute_result"
    }
   ],
   "source": [
    "mortgage_rate_demand_df.head()"
   ]
  },
  {
   "cell_type": "code",
   "execution_count": 27,
   "id": "7bd36b21",
   "metadata": {},
   "outputs": [],
   "source": [
    "mortgage_rate_demand_df.rename(columns={'MORTGAGE30US' : 'Mortgage Index'},inplace=True)"
   ]
  },
  {
   "cell_type": "code",
   "execution_count": 28,
   "id": "99365dbe",
   "metadata": {},
   "outputs": [
    {
     "data": {
      "text/html": [
       "<div>\n",
       "<style scoped>\n",
       "    .dataframe tbody tr th:only-of-type {\n",
       "        vertical-align: middle;\n",
       "    }\n",
       "\n",
       "    .dataframe tbody tr th {\n",
       "        vertical-align: top;\n",
       "    }\n",
       "\n",
       "    .dataframe thead th {\n",
       "        text-align: right;\n",
       "    }\n",
       "</style>\n",
       "<table border=\"1\" class=\"dataframe\">\n",
       "  <thead>\n",
       "    <tr style=\"text-align: right;\">\n",
       "      <th></th>\n",
       "      <th>Mortgage Index</th>\n",
       "    </tr>\n",
       "    <tr>\n",
       "      <th>DATE</th>\n",
       "      <th></th>\n",
       "    </tr>\n",
       "  </thead>\n",
       "  <tbody>\n",
       "    <tr>\n",
       "      <th>2000</th>\n",
       "      <td>8.061625</td>\n",
       "    </tr>\n",
       "    <tr>\n",
       "      <th>2001</th>\n",
       "      <td>6.971042</td>\n",
       "    </tr>\n",
       "    <tr>\n",
       "      <th>2002</th>\n",
       "      <td>6.536708</td>\n",
       "    </tr>\n",
       "    <tr>\n",
       "      <th>2003</th>\n",
       "      <td>5.819542</td>\n",
       "    </tr>\n",
       "    <tr>\n",
       "      <th>2004</th>\n",
       "      <td>5.838500</td>\n",
       "    </tr>\n",
       "  </tbody>\n",
       "</table>\n",
       "</div>"
      ],
      "text/plain": [
       "      Mortgage Index\n",
       "DATE                \n",
       "2000        8.061625\n",
       "2001        6.971042\n",
       "2002        6.536708\n",
       "2003        5.819542\n",
       "2004        5.838500"
      ]
     },
     "execution_count": 28,
     "metadata": {},
     "output_type": "execute_result"
    }
   ],
   "source": [
    "mortgage_rate_demand_df=mortgage_rate_demand_df.groupby(pd.DatetimeIndex(mortgage_rate_demand_df['DATE']).year).mean()\n",
    "mortgage_rate_demand_df.head()"
   ]
  },
  {
   "cell_type": "markdown",
   "id": "ebfa12d4",
   "metadata": {},
   "source": [
    "**Next demand factor is Personal Savings"
   ]
  },
  {
   "cell_type": "code",
   "execution_count": 29,
   "id": "0c0c0dad",
   "metadata": {},
   "outputs": [],
   "source": [
    "personal_savings_demand_df = pd.read_csv('./personal_savings.csv')"
   ]
  },
  {
   "cell_type": "code",
   "execution_count": 30,
   "id": "98237820",
   "metadata": {},
   "outputs": [
    {
     "data": {
      "text/html": [
       "<div>\n",
       "<style scoped>\n",
       "    .dataframe tbody tr th:only-of-type {\n",
       "        vertical-align: middle;\n",
       "    }\n",
       "\n",
       "    .dataframe tbody tr th {\n",
       "        vertical-align: top;\n",
       "    }\n",
       "\n",
       "    .dataframe thead th {\n",
       "        text-align: right;\n",
       "    }\n",
       "</style>\n",
       "<table border=\"1\" class=\"dataframe\">\n",
       "  <thead>\n",
       "    <tr style=\"text-align: right;\">\n",
       "      <th></th>\n",
       "      <th>DATE</th>\n",
       "      <th>PMSAVE</th>\n",
       "    </tr>\n",
       "  </thead>\n",
       "  <tbody>\n",
       "    <tr>\n",
       "      <th>0</th>\n",
       "      <td>2000-01-01</td>\n",
       "      <td>358.9</td>\n",
       "    </tr>\n",
       "    <tr>\n",
       "      <th>1</th>\n",
       "      <td>2000-02-01</td>\n",
       "      <td>324.3</td>\n",
       "    </tr>\n",
       "    <tr>\n",
       "      <th>2</th>\n",
       "      <td>2000-03-01</td>\n",
       "      <td>311.8</td>\n",
       "    </tr>\n",
       "    <tr>\n",
       "      <th>3</th>\n",
       "      <td>2000-04-01</td>\n",
       "      <td>347.8</td>\n",
       "    </tr>\n",
       "    <tr>\n",
       "      <th>4</th>\n",
       "      <td>2000-05-01</td>\n",
       "      <td>351.1</td>\n",
       "    </tr>\n",
       "  </tbody>\n",
       "</table>\n",
       "</div>"
      ],
      "text/plain": [
       "         DATE  PMSAVE\n",
       "0  2000-01-01   358.9\n",
       "1  2000-02-01   324.3\n",
       "2  2000-03-01   311.8\n",
       "3  2000-04-01   347.8\n",
       "4  2000-05-01   351.1"
      ]
     },
     "execution_count": 30,
     "metadata": {},
     "output_type": "execute_result"
    }
   ],
   "source": [
    "personal_savings_demand_df.head()"
   ]
  },
  {
   "cell_type": "code",
   "execution_count": 31,
   "id": "cc1c7bb1",
   "metadata": {},
   "outputs": [],
   "source": [
    "personal_savings_demand_df.rename(columns={'PMSAVE' : 'Personal Savings Index'},inplace=True)"
   ]
  },
  {
   "cell_type": "code",
   "execution_count": 32,
   "id": "549e5c68",
   "metadata": {},
   "outputs": [
    {
     "data": {
      "text/html": [
       "<div>\n",
       "<style scoped>\n",
       "    .dataframe tbody tr th:only-of-type {\n",
       "        vertical-align: middle;\n",
       "    }\n",
       "\n",
       "    .dataframe tbody tr th {\n",
       "        vertical-align: top;\n",
       "    }\n",
       "\n",
       "    .dataframe thead th {\n",
       "        text-align: right;\n",
       "    }\n",
       "</style>\n",
       "<table border=\"1\" class=\"dataframe\">\n",
       "  <thead>\n",
       "    <tr style=\"text-align: right;\">\n",
       "      <th></th>\n",
       "      <th>Personal Savings Index</th>\n",
       "    </tr>\n",
       "    <tr>\n",
       "      <th>DATE</th>\n",
       "      <th></th>\n",
       "    </tr>\n",
       "  </thead>\n",
       "  <tbody>\n",
       "    <tr>\n",
       "      <th>2000</th>\n",
       "      <td>351.433333</td>\n",
       "    </tr>\n",
       "    <tr>\n",
       "      <th>2001</th>\n",
       "      <td>382.825000</td>\n",
       "    </tr>\n",
       "    <tr>\n",
       "      <th>2002</th>\n",
       "      <td>462.483333</td>\n",
       "    </tr>\n",
       "    <tr>\n",
       "      <th>2003</th>\n",
       "      <td>456.666667</td>\n",
       "    </tr>\n",
       "    <tr>\n",
       "      <th>2004</th>\n",
       "      <td>445.433333</td>\n",
       "    </tr>\n",
       "  </tbody>\n",
       "</table>\n",
       "</div>"
      ],
      "text/plain": [
       "      Personal Savings Index\n",
       "DATE                        \n",
       "2000              351.433333\n",
       "2001              382.825000\n",
       "2002              462.483333\n",
       "2003              456.666667\n",
       "2004              445.433333"
      ]
     },
     "execution_count": 32,
     "metadata": {},
     "output_type": "execute_result"
    }
   ],
   "source": [
    "personal_savings_demand_df=personal_savings_demand_df.groupby(pd.DatetimeIndex(personal_savings_demand_df['DATE']).year).mean()\n",
    "personal_savings_demand_df.head()"
   ]
  },
  {
   "cell_type": "markdown",
   "id": "2662bc81",
   "metadata": {},
   "source": [
    "**Next Demand Factor is Personal Expenditure."
   ]
  },
  {
   "cell_type": "code",
   "execution_count": 33,
   "id": "d0a0bde9",
   "metadata": {},
   "outputs": [],
   "source": [
    "personal_expenditure_demand_df = pd.read_csv('./personal_expenditure.csv')"
   ]
  },
  {
   "cell_type": "code",
   "execution_count": 34,
   "id": "6437e70c",
   "metadata": {},
   "outputs": [
    {
     "data": {
      "text/html": [
       "<div>\n",
       "<style scoped>\n",
       "    .dataframe tbody tr th:only-of-type {\n",
       "        vertical-align: middle;\n",
       "    }\n",
       "\n",
       "    .dataframe tbody tr th {\n",
       "        vertical-align: top;\n",
       "    }\n",
       "\n",
       "    .dataframe thead th {\n",
       "        text-align: right;\n",
       "    }\n",
       "</style>\n",
       "<table border=\"1\" class=\"dataframe\">\n",
       "  <thead>\n",
       "    <tr style=\"text-align: right;\">\n",
       "      <th></th>\n",
       "      <th>Personal Expenditure</th>\n",
       "    </tr>\n",
       "    <tr>\n",
       "      <th>DATE</th>\n",
       "      <th></th>\n",
       "    </tr>\n",
       "  </thead>\n",
       "  <tbody>\n",
       "    <tr>\n",
       "      <th>2000</th>\n",
       "      <td>6767.175000</td>\n",
       "    </tr>\n",
       "    <tr>\n",
       "      <th>2001</th>\n",
       "      <td>7073.791667</td>\n",
       "    </tr>\n",
       "    <tr>\n",
       "      <th>2002</th>\n",
       "      <td>7348.950000</td>\n",
       "    </tr>\n",
       "    <tr>\n",
       "      <th>2003</th>\n",
       "      <td>7740.750000</td>\n",
       "    </tr>\n",
       "    <tr>\n",
       "      <th>2004</th>\n",
       "      <td>8231.966667</td>\n",
       "    </tr>\n",
       "  </tbody>\n",
       "</table>\n",
       "</div>"
      ],
      "text/plain": [
       "      Personal Expenditure\n",
       "DATE                      \n",
       "2000           6767.175000\n",
       "2001           7073.791667\n",
       "2002           7348.950000\n",
       "2003           7740.750000\n",
       "2004           8231.966667"
      ]
     },
     "execution_count": 34,
     "metadata": {},
     "output_type": "execute_result"
    }
   ],
   "source": [
    "personal_expenditure_demand_df.rename(columns={'PCE' : 'Personal Expenditure'},inplace=True)\n",
    "personal_expenditure_demand_df=personal_expenditure_demand_df.groupby(pd.DatetimeIndex(personal_expenditure_demand_df['DATE']).year).mean()\n",
    "personal_expenditure_demand_df.head()"
   ]
  },
  {
   "cell_type": "markdown",
   "id": "265169d8",
   "metadata": {},
   "source": [
    "**Final Demand factor is the Personal Income "
   ]
  },
  {
   "cell_type": "code",
   "execution_count": 35,
   "id": "d7a84d9d",
   "metadata": {},
   "outputs": [
    {
     "data": {
      "text/html": [
       "<div>\n",
       "<style scoped>\n",
       "    .dataframe tbody tr th:only-of-type {\n",
       "        vertical-align: middle;\n",
       "    }\n",
       "\n",
       "    .dataframe tbody tr th {\n",
       "        vertical-align: top;\n",
       "    }\n",
       "\n",
       "    .dataframe thead th {\n",
       "        text-align: right;\n",
       "    }\n",
       "</style>\n",
       "<table border=\"1\" class=\"dataframe\">\n",
       "  <thead>\n",
       "    <tr style=\"text-align: right;\">\n",
       "      <th></th>\n",
       "      <th>DSPIC96</th>\n",
       "    </tr>\n",
       "    <tr>\n",
       "      <th>DATE</th>\n",
       "      <th></th>\n",
       "    </tr>\n",
       "  </thead>\n",
       "  <tbody>\n",
       "    <tr>\n",
       "      <th>2000</th>\n",
       "      <td>9501.216667</td>\n",
       "    </tr>\n",
       "    <tr>\n",
       "      <th>2001</th>\n",
       "      <td>9759.233333</td>\n",
       "    </tr>\n",
       "    <tr>\n",
       "      <th>2002</th>\n",
       "      <td>10047.833333</td>\n",
       "    </tr>\n",
       "    <tr>\n",
       "      <th>2003</th>\n",
       "      <td>10309.758333</td>\n",
       "    </tr>\n",
       "    <tr>\n",
       "      <th>2004</th>\n",
       "      <td>10652.741667</td>\n",
       "    </tr>\n",
       "  </tbody>\n",
       "</table>\n",
       "</div>"
      ],
      "text/plain": [
       "           DSPIC96\n",
       "DATE              \n",
       "2000   9501.216667\n",
       "2001   9759.233333\n",
       "2002  10047.833333\n",
       "2003  10309.758333\n",
       "2004  10652.741667"
      ]
     },
     "execution_count": 35,
     "metadata": {},
     "output_type": "execute_result"
    }
   ],
   "source": [
    "personal_income_demand_df = pd.read_csv('./personal_income.csv')\n",
    "personal_income_demand_df=personal_income_demand_df.groupby(pd.DatetimeIndex(personal_income_demand_df['DATE']).year).mean()\n",
    "personal_income_demand_df.head()"
   ]
  },
  {
   "cell_type": "code",
   "execution_count": 36,
   "id": "78faf2d0",
   "metadata": {},
   "outputs": [],
   "source": [
    "personal_income_demand_df.rename(columns={'DSPIC96' : 'Personal Income'},inplace=True)"
   ]
  },
  {
   "cell_type": "code",
   "execution_count": 37,
   "id": "045b3eab",
   "metadata": {},
   "outputs": [
    {
     "data": {
      "text/html": [
       "<div>\n",
       "<style scoped>\n",
       "    .dataframe tbody tr th:only-of-type {\n",
       "        vertical-align: middle;\n",
       "    }\n",
       "\n",
       "    .dataframe tbody tr th {\n",
       "        vertical-align: top;\n",
       "    }\n",
       "\n",
       "    .dataframe thead th {\n",
       "        text-align: right;\n",
       "    }\n",
       "</style>\n",
       "<table border=\"1\" class=\"dataframe\">\n",
       "  <thead>\n",
       "    <tr style=\"text-align: right;\">\n",
       "      <th></th>\n",
       "      <th>Personal Income</th>\n",
       "    </tr>\n",
       "    <tr>\n",
       "      <th>DATE</th>\n",
       "      <th></th>\n",
       "    </tr>\n",
       "  </thead>\n",
       "  <tbody>\n",
       "    <tr>\n",
       "      <th>2000</th>\n",
       "      <td>9501.216667</td>\n",
       "    </tr>\n",
       "    <tr>\n",
       "      <th>2001</th>\n",
       "      <td>9759.233333</td>\n",
       "    </tr>\n",
       "    <tr>\n",
       "      <th>2002</th>\n",
       "      <td>10047.833333</td>\n",
       "    </tr>\n",
       "    <tr>\n",
       "      <th>2003</th>\n",
       "      <td>10309.758333</td>\n",
       "    </tr>\n",
       "    <tr>\n",
       "      <th>2004</th>\n",
       "      <td>10652.741667</td>\n",
       "    </tr>\n",
       "  </tbody>\n",
       "</table>\n",
       "</div>"
      ],
      "text/plain": [
       "      Personal Income\n",
       "DATE                 \n",
       "2000      9501.216667\n",
       "2001      9759.233333\n",
       "2002     10047.833333\n",
       "2003     10309.758333\n",
       "2004     10652.741667"
      ]
     },
     "execution_count": 37,
     "metadata": {},
     "output_type": "execute_result"
    }
   ],
   "source": [
    "personal_income_demand_df.head()"
   ]
  },
  {
   "cell_type": "markdown",
   "id": "4b79a5c9",
   "metadata": {},
   "source": [
    "**Now that all the necessary data has been extracted,we combine all the factors to form a single dataframe based on the year."
   ]
  },
  {
   "cell_type": "code",
   "execution_count": 38,
   "id": "e480becf",
   "metadata": {},
   "outputs": [],
   "source": [
    "## Joining all the the dataframes to get the feature table\n",
    "\n",
    "US_pricing_df = pd.concat([housing_index_df,gdp_national_df,unemployement_national_df,monthly_house_supply_national_df,mortgage_rate_demand_df,personal_savings_demand_df,personal_expenditure_demand_df,personal_income_demand_df], axis=1, join=\"inner\")"
   ]
  },
  {
   "cell_type": "code",
   "execution_count": 39,
   "id": "321e2c6f",
   "metadata": {},
   "outputs": [
    {
     "data": {
      "text/html": [
       "<div>\n",
       "<style scoped>\n",
       "    .dataframe tbody tr th:only-of-type {\n",
       "        vertical-align: middle;\n",
       "    }\n",
       "\n",
       "    .dataframe tbody tr th {\n",
       "        vertical-align: top;\n",
       "    }\n",
       "\n",
       "    .dataframe thead th {\n",
       "        text-align: right;\n",
       "    }\n",
       "</style>\n",
       "<table border=\"1\" class=\"dataframe\">\n",
       "  <thead>\n",
       "    <tr style=\"text-align: right;\">\n",
       "      <th></th>\n",
       "      <th>Price</th>\n",
       "      <th>GDP Index</th>\n",
       "      <th>UNRATE</th>\n",
       "      <th>Monthly Supply Index</th>\n",
       "      <th>Mortgage Index</th>\n",
       "      <th>Personal Savings Index</th>\n",
       "      <th>Personal Expenditure</th>\n",
       "      <th>Personal Income</th>\n",
       "    </tr>\n",
       "    <tr>\n",
       "      <th>DATE</th>\n",
       "      <th></th>\n",
       "      <th></th>\n",
       "      <th></th>\n",
       "      <th></th>\n",
       "      <th></th>\n",
       "      <th></th>\n",
       "      <th></th>\n",
       "      <th></th>\n",
       "    </tr>\n",
       "  </thead>\n",
       "  <tbody>\n",
       "    <tr>\n",
       "      <th>2000</th>\n",
       "      <td>104.776667</td>\n",
       "      <td>101.509834</td>\n",
       "      <td>3.966667</td>\n",
       "      <td>4.233333</td>\n",
       "      <td>8.061625</td>\n",
       "      <td>351.433333</td>\n",
       "      <td>6767.175000</td>\n",
       "      <td>9501.216667</td>\n",
       "    </tr>\n",
       "    <tr>\n",
       "      <th>2001</th>\n",
       "      <td>113.184750</td>\n",
       "      <td>99.881019</td>\n",
       "      <td>4.741667</td>\n",
       "      <td>4.050000</td>\n",
       "      <td>6.971042</td>\n",
       "      <td>382.825000</td>\n",
       "      <td>7073.791667</td>\n",
       "      <td>9759.233333</td>\n",
       "    </tr>\n",
       "    <tr>\n",
       "      <th>2002</th>\n",
       "      <td>122.287500</td>\n",
       "      <td>98.888812</td>\n",
       "      <td>5.783333</td>\n",
       "      <td>4.075000</td>\n",
       "      <td>6.536708</td>\n",
       "      <td>462.483333</td>\n",
       "      <td>7348.950000</td>\n",
       "      <td>10047.833333</td>\n",
       "    </tr>\n",
       "    <tr>\n",
       "      <th>2003</th>\n",
       "      <td>133.741167</td>\n",
       "      <td>98.918573</td>\n",
       "      <td>5.991667</td>\n",
       "      <td>3.908333</td>\n",
       "      <td>5.819542</td>\n",
       "      <td>456.666667</td>\n",
       "      <td>7740.750000</td>\n",
       "      <td>10309.758333</td>\n",
       "    </tr>\n",
       "    <tr>\n",
       "      <th>2004</th>\n",
       "      <td>150.464083</td>\n",
       "      <td>99.844796</td>\n",
       "      <td>5.541667</td>\n",
       "      <td>4.000000</td>\n",
       "      <td>5.838500</td>\n",
       "      <td>445.433333</td>\n",
       "      <td>8231.966667</td>\n",
       "      <td>10652.741667</td>\n",
       "    </tr>\n",
       "    <tr>\n",
       "      <th>2005</th>\n",
       "      <td>171.779167</td>\n",
       "      <td>100.604932</td>\n",
       "      <td>5.083333</td>\n",
       "      <td>4.450000</td>\n",
       "      <td>5.864875</td>\n",
       "      <td>267.983333</td>\n",
       "      <td>8769.058333</td>\n",
       "      <td>10811.366667</td>\n",
       "    </tr>\n",
       "    <tr>\n",
       "      <th>2006</th>\n",
       "      <td>183.481667</td>\n",
       "      <td>101.110633</td>\n",
       "      <td>4.608333</td>\n",
       "      <td>6.433333</td>\n",
       "      <td>6.410833</td>\n",
       "      <td>358.650000</td>\n",
       "      <td>9277.250000</td>\n",
       "      <td>11226.591667</td>\n",
       "    </tr>\n",
       "    <tr>\n",
       "      <th>2007</th>\n",
       "      <td>179.943583</td>\n",
       "      <td>101.568950</td>\n",
       "      <td>4.616667</td>\n",
       "      <td>8.383333</td>\n",
       "      <td>6.340458</td>\n",
       "      <td>352.666667</td>\n",
       "      <td>9746.591667</td>\n",
       "      <td>11492.833333</td>\n",
       "    </tr>\n",
       "    <tr>\n",
       "      <th>2008</th>\n",
       "      <td>164.061917</td>\n",
       "      <td>100.850742</td>\n",
       "      <td>5.800000</td>\n",
       "      <td>10.675000</td>\n",
       "      <td>6.036125</td>\n",
       "      <td>503.358333</td>\n",
       "      <td>10050.091667</td>\n",
       "      <td>11630.125000</td>\n",
       "    </tr>\n",
       "    <tr>\n",
       "      <th>2009</th>\n",
       "      <td>148.552083</td>\n",
       "      <td>98.082098</td>\n",
       "      <td>9.283333</td>\n",
       "      <td>9.033333</td>\n",
       "      <td>5.041375</td>\n",
       "      <td>639.666667</td>\n",
       "      <td>9891.216667</td>\n",
       "      <td>11618.258333</td>\n",
       "    </tr>\n",
       "    <tr>\n",
       "      <th>2010</th>\n",
       "      <td>144.664500</td>\n",
       "      <td>99.391019</td>\n",
       "      <td>9.608333</td>\n",
       "      <td>8.000000</td>\n",
       "      <td>4.690583</td>\n",
       "      <td>709.308333</td>\n",
       "      <td>10260.266667</td>\n",
       "      <td>11861.325000</td>\n",
       "    </tr>\n",
       "    <tr>\n",
       "      <th>2011</th>\n",
       "      <td>139.243583</td>\n",
       "      <td>99.649726</td>\n",
       "      <td>8.933333</td>\n",
       "      <td>6.583333</td>\n",
       "      <td>4.455833</td>\n",
       "      <td>806.008333</td>\n",
       "      <td>10698.858333</td>\n",
       "      <td>12107.266667</td>\n",
       "    </tr>\n",
       "    <tr>\n",
       "      <th>2012</th>\n",
       "      <td>140.987917</td>\n",
       "      <td>100.078139</td>\n",
       "      <td>8.075000</td>\n",
       "      <td>4.758333</td>\n",
       "      <td>3.655917</td>\n",
       "      <td>1073.075000</td>\n",
       "      <td>11047.341667</td>\n",
       "      <td>12504.433333</td>\n",
       "    </tr>\n",
       "    <tr>\n",
       "      <th>2013</th>\n",
       "      <td>154.524750</td>\n",
       "      <td>99.882659</td>\n",
       "      <td>7.358333</td>\n",
       "      <td>4.741667</td>\n",
       "      <td>3.981917</td>\n",
       "      <td>765.983333</td>\n",
       "      <td>11363.533333</td>\n",
       "      <td>12350.075000</td>\n",
       "    </tr>\n",
       "    <tr>\n",
       "      <th>2014</th>\n",
       "      <td>164.683750</td>\n",
       "      <td>100.103398</td>\n",
       "      <td>6.158333</td>\n",
       "      <td>5.475000</td>\n",
       "      <td>4.172833</td>\n",
       "      <td>930.916667</td>\n",
       "      <td>11847.725000</td>\n",
       "      <td>12821.783333</td>\n",
       "    </tr>\n",
       "    <tr>\n",
       "      <th>2015</th>\n",
       "      <td>172.178583</td>\n",
       "      <td>100.377067</td>\n",
       "      <td>5.275000</td>\n",
       "      <td>5.166667</td>\n",
       "      <td>3.849000</td>\n",
       "      <td>1034.866667</td>\n",
       "      <td>12263.483333</td>\n",
       "      <td>13330.075000</td>\n",
       "    </tr>\n",
       "    <tr>\n",
       "      <th>2016</th>\n",
       "      <td>180.926500</td>\n",
       "      <td>99.839852</td>\n",
       "      <td>4.875000</td>\n",
       "      <td>5.208333</td>\n",
       "      <td>3.647708</td>\n",
       "      <td>987.833333</td>\n",
       "      <td>12693.258333</td>\n",
       "      <td>13575.716667</td>\n",
       "    </tr>\n",
       "    <tr>\n",
       "      <th>2017</th>\n",
       "      <td>191.404583</td>\n",
       "      <td>99.842404</td>\n",
       "      <td>4.358333</td>\n",
       "      <td>5.383333</td>\n",
       "      <td>3.991000</td>\n",
       "      <td>1076.400000</td>\n",
       "      <td>13239.108333</td>\n",
       "      <td>13956.716667</td>\n",
       "    </tr>\n",
       "    <tr>\n",
       "      <th>2018</th>\n",
       "      <td>202.482667</td>\n",
       "      <td>100.428587</td>\n",
       "      <td>3.891667</td>\n",
       "      <td>6.166667</td>\n",
       "      <td>4.539042</td>\n",
       "      <td>1190.950000</td>\n",
       "      <td>13913.533333</td>\n",
       "      <td>14429.291667</td>\n",
       "    </tr>\n",
       "    <tr>\n",
       "      <th>2019</th>\n",
       "      <td>209.479917</td>\n",
       "      <td>100.687823</td>\n",
       "      <td>3.675000</td>\n",
       "      <td>5.833333</td>\n",
       "      <td>3.933750</td>\n",
       "      <td>1237.783333</td>\n",
       "      <td>14428.683333</td>\n",
       "      <td>14755.633333</td>\n",
       "    </tr>\n",
       "    <tr>\n",
       "      <th>2020</th>\n",
       "      <td>222.147750</td>\n",
       "      <td>96.507073</td>\n",
       "      <td>8.091667</td>\n",
       "      <td>4.616667</td>\n",
       "      <td>3.113667</td>\n",
       "      <td>2887.533333</td>\n",
       "      <td>14047.550000</td>\n",
       "      <td>15677.350000</td>\n",
       "    </tr>\n",
       "    <tr>\n",
       "      <th>2021</th>\n",
       "      <td>260.101500</td>\n",
       "      <td>99.482651</td>\n",
       "      <td>5.358333</td>\n",
       "      <td>5.516667</td>\n",
       "      <td>2.955708</td>\n",
       "      <td>2281.291667</td>\n",
       "      <td>15741.591667</td>\n",
       "      <td>16031.950000</td>\n",
       "    </tr>\n",
       "    <tr>\n",
       "      <th>2022</th>\n",
       "      <td>296.677000</td>\n",
       "      <td>99.919005</td>\n",
       "      <td>3.675000</td>\n",
       "      <td>7.942857</td>\n",
       "      <td>4.845074</td>\n",
       "      <td>976.600000</td>\n",
       "      <td>16893.100000</td>\n",
       "      <td>15141.842857</td>\n",
       "    </tr>\n",
       "  </tbody>\n",
       "</table>\n",
       "</div>"
      ],
      "text/plain": [
       "           Price   GDP Index    UNRATE  Monthly Supply Index  Mortgage Index  \\\n",
       "DATE                                                                           \n",
       "2000  104.776667  101.509834  3.966667              4.233333        8.061625   \n",
       "2001  113.184750   99.881019  4.741667              4.050000        6.971042   \n",
       "2002  122.287500   98.888812  5.783333              4.075000        6.536708   \n",
       "2003  133.741167   98.918573  5.991667              3.908333        5.819542   \n",
       "2004  150.464083   99.844796  5.541667              4.000000        5.838500   \n",
       "2005  171.779167  100.604932  5.083333              4.450000        5.864875   \n",
       "2006  183.481667  101.110633  4.608333              6.433333        6.410833   \n",
       "2007  179.943583  101.568950  4.616667              8.383333        6.340458   \n",
       "2008  164.061917  100.850742  5.800000             10.675000        6.036125   \n",
       "2009  148.552083   98.082098  9.283333              9.033333        5.041375   \n",
       "2010  144.664500   99.391019  9.608333              8.000000        4.690583   \n",
       "2011  139.243583   99.649726  8.933333              6.583333        4.455833   \n",
       "2012  140.987917  100.078139  8.075000              4.758333        3.655917   \n",
       "2013  154.524750   99.882659  7.358333              4.741667        3.981917   \n",
       "2014  164.683750  100.103398  6.158333              5.475000        4.172833   \n",
       "2015  172.178583  100.377067  5.275000              5.166667        3.849000   \n",
       "2016  180.926500   99.839852  4.875000              5.208333        3.647708   \n",
       "2017  191.404583   99.842404  4.358333              5.383333        3.991000   \n",
       "2018  202.482667  100.428587  3.891667              6.166667        4.539042   \n",
       "2019  209.479917  100.687823  3.675000              5.833333        3.933750   \n",
       "2020  222.147750   96.507073  8.091667              4.616667        3.113667   \n",
       "2021  260.101500   99.482651  5.358333              5.516667        2.955708   \n",
       "2022  296.677000   99.919005  3.675000              7.942857        4.845074   \n",
       "\n",
       "      Personal Savings Index  Personal Expenditure  Personal Income  \n",
       "DATE                                                                 \n",
       "2000              351.433333           6767.175000      9501.216667  \n",
       "2001              382.825000           7073.791667      9759.233333  \n",
       "2002              462.483333           7348.950000     10047.833333  \n",
       "2003              456.666667           7740.750000     10309.758333  \n",
       "2004              445.433333           8231.966667     10652.741667  \n",
       "2005              267.983333           8769.058333     10811.366667  \n",
       "2006              358.650000           9277.250000     11226.591667  \n",
       "2007              352.666667           9746.591667     11492.833333  \n",
       "2008              503.358333          10050.091667     11630.125000  \n",
       "2009              639.666667           9891.216667     11618.258333  \n",
       "2010              709.308333          10260.266667     11861.325000  \n",
       "2011              806.008333          10698.858333     12107.266667  \n",
       "2012             1073.075000          11047.341667     12504.433333  \n",
       "2013              765.983333          11363.533333     12350.075000  \n",
       "2014              930.916667          11847.725000     12821.783333  \n",
       "2015             1034.866667          12263.483333     13330.075000  \n",
       "2016              987.833333          12693.258333     13575.716667  \n",
       "2017             1076.400000          13239.108333     13956.716667  \n",
       "2018             1190.950000          13913.533333     14429.291667  \n",
       "2019             1237.783333          14428.683333     14755.633333  \n",
       "2020             2887.533333          14047.550000     15677.350000  \n",
       "2021             2281.291667          15741.591667     16031.950000  \n",
       "2022              976.600000          16893.100000     15141.842857  "
      ]
     },
     "execution_count": 39,
     "metadata": {},
     "output_type": "execute_result"
    }
   ],
   "source": [
    "US_pricing_df"
   ]
  },
  {
   "cell_type": "markdown",
   "id": "577948f2",
   "metadata": {},
   "source": [
    "**As we can see, it is time series data. We are going to apply Linear Regression on the same. \n",
    "**We shall analyse the affect of all the features we have extracted on the Price by using a Correlation Matrix."
   ]
  },
  {
   "cell_type": "code",
   "execution_count": 41,
   "id": "f6d5a49f",
   "metadata": {},
   "outputs": [
    {
     "data": {
      "text/plain": [
       "<AxesSubplot:>"
      ]
     },
     "execution_count": 41,
     "metadata": {},
     "output_type": "execute_result"
    },
    {
     "data": {
      "image/png": "[encoded data removed]",
      "text/plain": [
       "<Figure size 842.4x595.44 with 2 Axes>"
      ]
     },
     "metadata": {},
     "output_type": "display_data"
    }
   ],
   "source": [
    "## correlation matrix\n",
    "\n",
    "correlation_matrix = US_pricing_df.corr().round(2)\n",
    "# annot = True to print the values inside the square\n",
    "sns.heatmap(data=correlation_matrix, annot=True)"
   ]
  },
  {
   "cell_type": "markdown",
   "id": "06619d85",
   "metadata": {},
   "source": [
    "**From the correlation matrix, it is evident that, Personal Expenditure and Personal Income are the 2 factors that are highly correlated with Price,ie. as the Personal Income or Personal Expenditure increases, the housing prices gets affected."
   ]
  },
  {
   "cell_type": "code",
   "execution_count": 42,
   "id": "9a34a170",
   "metadata": {},
   "outputs": [],
   "source": [
    "features = US_pricing_df.columns"
   ]
  },
  {
   "cell_type": "code",
   "execution_count": 43,
   "id": "bb0b39e6",
   "metadata": {},
   "outputs": [
    {
     "data": {
      "text/plain": [
       "Index(['Price', 'GDP Index', 'UNRATE', 'Monthly Supply Index',\n",
       "       'Mortgage Index', 'Personal Savings Index', 'Personal Expenditure',\n",
       "       'Personal Income'],\n",
       "      dtype='object')"
      ]
     },
     "execution_count": 43,
     "metadata": {},
     "output_type": "execute_result"
    }
   ],
   "source": [
    "features"
   ]
  },
  {
   "cell_type": "code",
   "execution_count": 44,
   "id": "b87b5165",
   "metadata": {},
   "outputs": [],
   "source": [
    "feature_count=len(features)"
   ]
  },
  {
   "cell_type": "code",
   "execution_count": 45,
   "id": "33f09de6",
   "metadata": {},
   "outputs": [],
   "source": [
    "target = US_pricing_df['Price']"
   ]
  },
  {
   "cell_type": "markdown",
   "id": "9281370d",
   "metadata": {},
   "source": [
    "**For further analysis on affect of each feature on price, we can use the scatter plot."
   ]
  },
  {
   "cell_type": "code",
   "execution_count": 72,
   "id": "59e38b67",
   "metadata": {},
   "outputs": [
    {
     "name": "stderr",
     "output_type": "stream",
     "text": [
      "C:\\Users\\91854\\AppData\\Local\\Temp/ipykernel_9724/1590410190.py:2: MatplotlibDeprecationWarning: Passing non-integers as three-element position specification is deprecated since 3.3 and will be removed two minor releases later.\n",
      "  plt.subplot(3, len(features)/2 , i+1)\n"
     ]
    },
    {
     "data": {
      "image/png": "[encoded data removed]",
      "text/plain": [
       "<Figure size 842.4x595.44 with 8 Axes>"
      ]
     },
     "metadata": {},
     "output_type": "display_data"
    }
   ],
   "source": [
    "for i, col in enumerate(features):\n",
    "    plt.subplot(3, len(features)/2 , i+1)\n",
    "    x = US_pricing_df[col]\n",
    "    y = target\n",
    "    plt.scatter(x, y)\n",
    "    plt.title(col)\n",
    "    plt.xlabel(col)\n",
    "    plt.ylabel('Price')"
   ]
  },
  {
   "cell_type": "markdown",
   "id": "2df4ac36",
   "metadata": {},
   "source": [
    "**In order to build our regression model, we first split our data into training and test sets"
   ]
  },
  {
   "cell_type": "code",
   "execution_count": 47,
   "id": "c334ae79",
   "metadata": {},
   "outputs": [
    {
     "name": "stdout",
     "output_type": "stream",
     "text": [
      "(18, 8)\n",
      "(5, 8)\n",
      "(18,)\n",
      "(5,)\n"
     ]
    }
   ],
   "source": [
    "# Split to train and test sets\n",
    "\n",
    "from sklearn.model_selection import train_test_split\n",
    "X_train, X_test, Y_train, Y_test = train_test_split(US_pricing_df, US_pricing_df['Price'], test_size = 0.2, random_state=5)\n",
    "print(X_train.shape)\n",
    "print(X_test.shape)\n",
    "print(Y_train.shape)\n",
    "print(Y_test.shape)"
   ]
  },
  {
   "cell_type": "markdown",
   "id": "53242fa4",
   "metadata": {},
   "source": [
    "**We then fit the training data into our model."
   ]
  },
  {
   "cell_type": "code",
   "execution_count": 48,
   "id": "f110de80",
   "metadata": {},
   "outputs": [
    {
     "data": {
      "text/plain": [
       "LinearRegression()"
      ]
     },
     "execution_count": 48,
     "metadata": {},
     "output_type": "execute_result"
    }
   ],
   "source": [
    "## Training and testing the model\n",
    "\n",
    "from sklearn.linear_model import LinearRegression\n",
    "from sklearn.metrics import mean_squared_error\n",
    "\n",
    "lin_model = LinearRegression()\n",
    "lin_model.fit(X_train, Y_train)"
   ]
  },
  {
   "cell_type": "markdown",
   "id": "b52e19a2",
   "metadata": {},
   "source": [
    "**We then evaluate the model by checking the value of RMSE and R Squared."
   ]
  },
  {
   "cell_type": "code",
   "execution_count": 49,
   "id": "46e21429",
   "metadata": {},
   "outputs": [
    {
     "name": "stdout",
     "output_type": "stream",
     "text": [
      "The model performance for training set\n",
      "--------------------------------------\n",
      "RMSE is 1.030218904955004e-13\n",
      "R2 score is 1.0\n",
      "\n",
      "\n"
     ]
    }
   ],
   "source": [
    "## Model Evaluation\n",
    "from sklearn.metrics import r2_score\n",
    "\n",
    "# model evaluation for training set\n",
    "y_train_predict = lin_model.predict(X_train)\n",
    "rmse = (np.sqrt(mean_squared_error(Y_train, y_train_predict)))\n",
    "r2 = r2_score(Y_train, y_train_predict)\n",
    "\n",
    "print(\"The model performance for training set\")\n",
    "print(\"--------------------------------------\")\n",
    "print('RMSE is {}'.format(rmse))\n",
    "print('R2 score is {}'.format(r2))\n",
    "print(\"\\n\")"
   ]
  },
  {
   "cell_type": "code",
   "execution_count": 50,
   "id": "5eb1806f",
   "metadata": {},
   "outputs": [
    {
     "name": "stdout",
     "output_type": "stream",
     "text": [
      "The model performance for testing set\n",
      "--------------------------------------\n",
      "RMSE is 1.0028474414626402e-13\n",
      "R2 score is 1.0\n"
     ]
    }
   ],
   "source": [
    "# model evaluation for testing set\n",
    "y_test_predict = lin_model.predict(X_test)\n",
    "rmse = (np.sqrt(mean_squared_error(Y_test, y_test_predict)))\n",
    "r2 = r2_score(Y_test, y_test_predict)\n",
    "\n",
    "print(\"The model performance for testing set\")\n",
    "print(\"--------------------------------------\")\n",
    "print('RMSE is {}'.format(rmse))\n",
    "print('R2 score is {}'.format(r2))"
   ]
  },
  {
   "cell_type": "markdown",
   "id": "7ace7e9e",
   "metadata": {},
   "source": [
    "**We can see that both the RMSE and R squared values are 1. Hene we have developed a good model."
   ]
  }
 ],
 "metadata": {
  "kernelspec": {
   "display_name": "Python 3 (ipykernel)",
   "language": "python",
   "name": "python3"
  },
  "language_info": {
   "codemirror_mode": {
    "name": "ipython",
    "version": 3
   },
   "file_extension": ".py",
   "mimetype": "text/x-python",
   "name": "python",
   "nbconvert_exporter": "python",
   "pygments_lexer": "ipython3",
   "version": "3.9.7"
  }
 },
 "nbformat": 4,
 "nbformat_minor": 5
}
